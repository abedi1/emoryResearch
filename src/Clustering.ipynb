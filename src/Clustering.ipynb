{
 "cells": [
  {
   "cell_type": "code",
   "execution_count": 1,
   "id": "veterinary-estonia",
   "metadata": {},
   "outputs": [],
   "source": [
    "import pandas as pd\n",
    "import numpy as np\n",
    "import random as rd\n",
    "import matplotlib.pyplot as plt\n",
    "from sklearn.cluster import KMeans\n",
    "from sklearn.preprocessing import StandardScaler\n",
    "from sklearn.metrics import silhouette_score\n",
    "from kneed import KneeLocator"
   ]
  },
  {
   "cell_type": "code",
   "execution_count": 2,
   "id": "advised-senator",
   "metadata": {},
   "outputs": [
    {
     "data": {
      "text/html": [
       "<div>\n",
       "<style scoped>\n",
       "    .dataframe tbody tr th:only-of-type {\n",
       "        vertical-align: middle;\n",
       "    }\n",
       "\n",
       "    .dataframe tbody tr th {\n",
       "        vertical-align: top;\n",
       "    }\n",
       "\n",
       "    .dataframe thead th {\n",
       "        text-align: right;\n",
       "    }\n",
       "</style>\n",
       "<table border=\"1\" class=\"dataframe\">\n",
       "  <thead>\n",
       "    <tr style=\"text-align: right;\">\n",
       "      <th></th>\n",
       "      <th>year</th>\n",
       "      <th>month</th>\n",
       "      <th>day</th>\n",
       "      <th>time</th>\n",
       "      <th>dayInWeek</th>\n",
       "      <th>duration</th>\n",
       "      <th>startLat</th>\n",
       "      <th>startLog</th>\n",
       "      <th>endLat</th>\n",
       "      <th>endLog</th>\n",
       "      <th>distance</th>\n",
       "    </tr>\n",
       "  </thead>\n",
       "  <tbody>\n",
       "    <tr>\n",
       "      <th>0</th>\n",
       "      <td>2019</td>\n",
       "      <td>10</td>\n",
       "      <td>8</td>\n",
       "      <td>19</td>\n",
       "      <td>3</td>\n",
       "      <td>3</td>\n",
       "      <td>38.257</td>\n",
       "      <td>-85.748</td>\n",
       "      <td>38.256</td>\n",
       "      <td>-85.746</td>\n",
       "      <td>0.04</td>\n",
       "    </tr>\n",
       "    <tr>\n",
       "      <th>1</th>\n",
       "      <td>2019</td>\n",
       "      <td>4</td>\n",
       "      <td>13</td>\n",
       "      <td>13</td>\n",
       "      <td>7</td>\n",
       "      <td>1</td>\n",
       "      <td>38.251</td>\n",
       "      <td>-85.758</td>\n",
       "      <td>38.251</td>\n",
       "      <td>-85.758</td>\n",
       "      <td>0.04</td>\n",
       "    </tr>\n",
       "    <tr>\n",
       "      <th>2</th>\n",
       "      <td>2019</td>\n",
       "      <td>4</td>\n",
       "      <td>28</td>\n",
       "      <td>8</td>\n",
       "      <td>1</td>\n",
       "      <td>1</td>\n",
       "      <td>38.254</td>\n",
       "      <td>-85.757</td>\n",
       "      <td>38.254</td>\n",
       "      <td>-85.757</td>\n",
       "      <td>0.04</td>\n",
       "    </tr>\n",
       "    <tr>\n",
       "      <th>3</th>\n",
       "      <td>2019</td>\n",
       "      <td>2</td>\n",
       "      <td>15</td>\n",
       "      <td>23</td>\n",
       "      <td>6</td>\n",
       "      <td>3</td>\n",
       "      <td>38.222</td>\n",
       "      <td>-85.761</td>\n",
       "      <td>38.221</td>\n",
       "      <td>-85.761</td>\n",
       "      <td>0.04</td>\n",
       "    </tr>\n",
       "    <tr>\n",
       "      <th>4</th>\n",
       "      <td>2019</td>\n",
       "      <td>1</td>\n",
       "      <td>1</td>\n",
       "      <td>12</td>\n",
       "      <td>3</td>\n",
       "      <td>1</td>\n",
       "      <td>38.243</td>\n",
       "      <td>-85.725</td>\n",
       "      <td>38.243</td>\n",
       "      <td>-85.725</td>\n",
       "      <td>0.04</td>\n",
       "    </tr>\n",
       "  </tbody>\n",
       "</table>\n",
       "</div>"
      ],
      "text/plain": [
       "   year  month  day  time  dayInWeek  duration  startLat  startLog  endLat  \\\n",
       "0  2019     10    8    19          3         3    38.257   -85.748  38.256   \n",
       "1  2019      4   13    13          7         1    38.251   -85.758  38.251   \n",
       "2  2019      4   28     8          1         1    38.254   -85.757  38.254   \n",
       "3  2019      2   15    23          6         3    38.222   -85.761  38.221   \n",
       "4  2019      1    1    12          3         1    38.243   -85.725  38.243   \n",
       "\n",
       "   endLog  distance  \n",
       "0 -85.746      0.04  \n",
       "1 -85.758      0.04  \n",
       "2 -85.757      0.04  \n",
       "3 -85.761      0.04  \n",
       "4 -85.725      0.04  "
      ]
     },
     "execution_count": 2,
     "metadata": {},
     "output_type": "execute_result"
    }
   ],
   "source": [
    "data=pd.read_csv('ResearchData.csv')\n",
    "data.head()"
   ]
  },
  {
   "cell_type": "code",
   "execution_count": 3,
   "id": "civil-volleyball",
   "metadata": {},
   "outputs": [
    {
     "data": {
      "text/plain": [
       "year         0\n",
       "month        0\n",
       "day          0\n",
       "time         0\n",
       "dayInWeek    0\n",
       "duration     0\n",
       "startLat     0\n",
       "startLog     0\n",
       "endLat       0\n",
       "endLog       0\n",
       "distance     0\n",
       "dtype: int64"
      ]
     },
     "execution_count": 3,
     "metadata": {},
     "output_type": "execute_result"
    }
   ],
   "source": [
    "data.isna().sum()"
   ]
  },
  {
   "cell_type": "code",
   "execution_count": 4,
   "id": "driving-roberts",
   "metadata": {},
   "outputs": [
    {
     "name": "stdout",
     "output_type": "stream",
     "text": [
      "<class 'pandas.core.frame.DataFrame'>\n",
      "RangeIndex: 395702 entries, 0 to 395701\n",
      "Data columns (total 11 columns):\n",
      " #   Column     Non-Null Count   Dtype  \n",
      "---  ------     --------------   -----  \n",
      " 0   year       395702 non-null  int64  \n",
      " 1   month      395702 non-null  int64  \n",
      " 2   day        395702 non-null  int64  \n",
      " 3   time       395702 non-null  int64  \n",
      " 4   dayInWeek  395702 non-null  int64  \n",
      " 5   duration   395702 non-null  int64  \n",
      " 6   startLat   395702 non-null  float64\n",
      " 7   startLog   395702 non-null  float64\n",
      " 8   endLat     395702 non-null  float64\n",
      " 9   endLog     395702 non-null  float64\n",
      " 10  distance   395702 non-null  float64\n",
      "dtypes: float64(5), int64(6)\n",
      "memory usage: 33.2 MB\n"
     ]
    }
   ],
   "source": [
    "data.info()"
   ]
  },
  {
   "cell_type": "code",
   "execution_count": 5,
   "id": "apart-monday",
   "metadata": {},
   "outputs": [],
   "source": [
    "X = np.array(data).astype(float)"
   ]
  },
  {
   "cell_type": "code",
   "execution_count": 6,
   "id": "three-thumbnail",
   "metadata": {},
   "outputs": [],
   "source": [
    "scaler = StandardScaler()\n",
    "scaled_data = scaler.fit_transform(data)"
   ]
  },
  {
   "cell_type": "code",
   "execution_count": 7,
   "id": "opponent-outdoors",
   "metadata": {},
   "outputs": [
    {
     "data": {
      "text/plain": [
       "array([[ 0.35229451,  0.99384503, -0.85190767,  1.11187231, -0.63045343,\n",
       "        -0.62297008,  0.45331088,  0.02448044,  0.08676513,  0.00457619,\n",
       "        -1.03538867],\n",
       "       [ 0.35229451, -1.13802911, -0.28674139, -0.19091544,  1.31830811,\n",
       "        -0.73079577,  0.28981035, -0.11702632,  0.06098679, -0.02137041,\n",
       "        -1.03538867],\n",
       "       [ 0.35229451, -1.13802911,  1.40875747, -1.2765719 , -1.6048342 ,\n",
       "        -0.73079577,  0.37156061, -0.10287565,  0.07645379, -0.01920819,\n",
       "        -1.03538867],\n",
       "       [ 0.35229451, -1.84865382, -0.06067487,  1.98039747,  0.83111773,\n",
       "        -0.62297008, -0.50044221, -0.15947835, -0.09368326, -0.02785706,\n",
       "        -1.03538867],\n",
       "       [ 0.35229451, -2.20396618, -1.64314047, -0.40804673, -0.63045343,\n",
       "        -0.73079577,  0.07180965,  0.34994599,  0.01974144,  0.04998275,\n",
       "        -1.03538867]])"
      ]
     },
     "execution_count": 7,
     "metadata": {},
     "output_type": "execute_result"
    }
   ],
   "source": [
    "scaled_data[:5]"
   ]
  },
  {
   "cell_type": "code",
   "execution_count": 8,
   "id": "worst-pattern",
   "metadata": {},
   "outputs": [],
   "source": [
    "kmeans_kwargs = {\n",
    "    \"init\": \"random\",\n",
    "    \"n_init\": 10,\n",
    "    \"max_iter\": 300,\n",
    "    \"random_state\": 42,\n",
    "}"
   ]
  },
  {
   "cell_type": "code",
   "execution_count": 9,
   "id": "english-crime",
   "metadata": {},
   "outputs": [],
   "source": [
    "sse = []\n",
    "for k in range (1, 11):\n",
    "    kmeans = KMeans(n_clusters=k, **kmeans_kwargs)\n",
    "    kmeans.fit(scaled_data)\n",
    "    sse.append(kmeans.inertia_)"
   ]
  },
  {
   "cell_type": "code",
   "execution_count": 10,
   "id": "fatal-combination",
   "metadata": {},
   "outputs": [
    {
     "data": {
      "image/png": "[encoded data removed]",
      "text/plain": [
       "<Figure size 432x288 with 1 Axes>"
      ]
     },
     "metadata": {},
     "output_type": "display_data"
    }
   ],
   "source": [
    "plt.style.use(\"ggplot\")\n",
    "plt.plot(range(1, 11), sse)\n",
    "plt.xticks(range(1, 11))\n",
    "plt.xlabel(\"Number of Clusters\")\n",
    "plt.ylabel(\"SSE\")\n",
    "plt.show()"
   ]
  },
  {
   "cell_type": "code",
   "execution_count": 11,
   "id": "brown-vienna",
   "metadata": {},
   "outputs": [
    {
     "data": {
      "text/plain": [
       "4"
      ]
     },
     "execution_count": 11,
     "metadata": {},
     "output_type": "execute_result"
    }
   ],
   "source": [
    "kl = KneeLocator(\n",
    "    range(1, 11), sse, curve=\"convex\", direction=\"decreasing\"\n",
    ")\n",
    "\n",
    "kl.elbow"
   ]
  },
  {
   "cell_type": "code",
   "execution_count": 13,
   "id": "economic-place",
   "metadata": {},
   "outputs": [
    {
     "data": {
      "text/plain": [
       "KMeans(init='random', n_clusters=4, random_state=42)"
      ]
     },
     "execution_count": 13,
     "metadata": {},
     "output_type": "execute_result"
    }
   ],
   "source": [
    "kmeans = KMeans(n_clusters=4, **kmeans_kwargs)\n",
    "kmeans.fit(scaled_data)\n"
   ]
  },
  {
   "cell_type": "code",
   "execution_count": 14,
   "id": "sharp-possibility",
   "metadata": {},
   "outputs": [
    {
     "data": {
      "text/plain": [
       "3313128.6346311485"
      ]
     },
     "execution_count": 14,
     "metadata": {},
     "output_type": "execute_result"
    }
   ],
   "source": [
    "kmeans.inertia_\n"
   ]
  },
  {
   "cell_type": "code",
   "execution_count": 15,
   "id": "normal-isolation",
   "metadata": {},
   "outputs": [
    {
     "data": {
      "text/plain": [
       "array([[ 2.21894992e-01, -2.43698795e-01, -2.82013190e-03,\n",
       "         2.47723178e-01, -1.47737417e-02,  1.52474364e+00,\n",
       "         1.64106836e-01,  5.42826386e-02,  3.22603010e-02,\n",
       "         8.63581851e-04,  1.82768578e+00],\n",
       "       [-2.38025294e+00,  1.09660338e+00,  2.36772737e-02,\n",
       "         9.75709030e-02, -4.75527977e-02, -1.24311532e-01,\n",
       "         5.89929965e-02,  4.12915487e-02,  1.45380947e-02,\n",
       "         5.33893865e-03, -6.23946248e-02],\n",
       "       [ 4.30418576e-01, -6.50692178e-01,  2.73549375e-01,\n",
       "        -8.38343803e-01, -1.59893586e-01, -3.16491817e-01,\n",
       "        -1.51060188e-01, -3.56917392e-02, -3.72423161e-02,\n",
       "         1.97824395e-03, -3.55546762e-01],\n",
       "       [ 3.57517312e-01,  2.68391724e-01, -2.37410588e-01,\n",
       "         5.82496972e-01,  1.56154512e-01, -2.51388510e-01,\n",
       "         4.71414838e-02, -3.76864158e-03,  1.46348818e-02,\n",
       "        -3.78192304e-03, -3.50581149e-01]])"
      ]
     },
     "execution_count": 15,
     "metadata": {},
     "output_type": "execute_result"
    }
   ],
   "source": [
    "kmeans.cluster_centers_\n"
   ]
  }
 ],
 "metadata": {
  "kernelspec": {
   "display_name": "Python 3",
   "language": "python",
   "name": "python3"
  },
  "language_info": {
   "codemirror_mode": {
    "name": "ipython",
    "version": 3
   },
   "file_extension": ".py",
   "mimetype": "text/x-python",
   "name": "python",
   "nbconvert_exporter": "python",
   "pygments_lexer": "ipython3",
   "version": "3.9.1"
  }
 },
 "nbformat": 4,
 "nbformat_minor": 5
}