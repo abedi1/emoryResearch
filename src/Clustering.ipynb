{
 "cells": [
  {
   "cell_type": "code",
   "execution_count": 1,
   "id": "veterinary-estonia",
   "metadata": {},
   "outputs": [],
   "source": [
    "import pandas as pd\n",
    "import numpy as np\n",
    "import random as rd\n",
    "import matplotlib.pyplot as plt\n",
    "from sklearn.cluster import KMeans\n",
    "from sklearn.preprocessing import StandardScaler\n",
    "from sklearn.metrics import silhouette_score\n",
    "from kneed import KneeLocator\n",
    "import uuid\n",
    "from sklearn.cluster import MeanShift, estimate_bandwidth"
   ]
  },
  {
   "cell_type": "markdown",
   "id": "norwegian-asian",
   "metadata": {},
   "source": [
    "Getting the data and imports"
   ]
  },
  {
   "cell_type": "code",
   "execution_count": 2,
   "id": "advised-senator",
   "metadata": {},
   "outputs": [
    {
     "data": {
      "text/html": [
       "<div>\n",
       "<style scoped>\n",
       "    .dataframe tbody tr th:only-of-type {\n",
       "        vertical-align: middle;\n",
       "    }\n",
       "\n",
       "    .dataframe tbody tr th {\n",
       "        vertical-align: top;\n",
       "    }\n",
       "\n",
       "    .dataframe thead th {\n",
       "        text-align: right;\n",
       "    }\n",
       "</style>\n",
       "<table border=\"1\" class=\"dataframe\">\n",
       "  <thead>\n",
       "    <tr style=\"text-align: right;\">\n",
       "      <th></th>\n",
       "      <th>year</th>\n",
       "      <th>month</th>\n",
       "      <th>day</th>\n",
       "      <th>time</th>\n",
       "      <th>dayInWeek</th>\n",
       "      <th>duration</th>\n",
       "      <th>startLat</th>\n",
       "      <th>startLog</th>\n",
       "      <th>endLat</th>\n",
       "      <th>endLog</th>\n",
       "      <th>distance</th>\n",
       "    </tr>\n",
       "  </thead>\n",
       "  <tbody>\n",
       "    <tr>\n",
       "      <th>0</th>\n",
       "      <td>2019</td>\n",
       "      <td>10</td>\n",
       "      <td>8</td>\n",
       "      <td>19</td>\n",
       "      <td>3</td>\n",
       "      <td>3</td>\n",
       "      <td>38.257</td>\n",
       "      <td>-85.748</td>\n",
       "      <td>38.256</td>\n",
       "      <td>-85.746</td>\n",
       "      <td>0.04</td>\n",
       "    </tr>\n",
       "    <tr>\n",
       "      <th>1</th>\n",
       "      <td>2019</td>\n",
       "      <td>4</td>\n",
       "      <td>13</td>\n",
       "      <td>13</td>\n",
       "      <td>7</td>\n",
       "      <td>1</td>\n",
       "      <td>38.251</td>\n",
       "      <td>-85.758</td>\n",
       "      <td>38.251</td>\n",
       "      <td>-85.758</td>\n",
       "      <td>0.04</td>\n",
       "    </tr>\n",
       "    <tr>\n",
       "      <th>2</th>\n",
       "      <td>2019</td>\n",
       "      <td>4</td>\n",
       "      <td>28</td>\n",
       "      <td>8</td>\n",
       "      <td>1</td>\n",
       "      <td>1</td>\n",
       "      <td>38.254</td>\n",
       "      <td>-85.757</td>\n",
       "      <td>38.254</td>\n",
       "      <td>-85.757</td>\n",
       "      <td>0.04</td>\n",
       "    </tr>\n",
       "    <tr>\n",
       "      <th>3</th>\n",
       "      <td>2019</td>\n",
       "      <td>2</td>\n",
       "      <td>15</td>\n",
       "      <td>23</td>\n",
       "      <td>6</td>\n",
       "      <td>3</td>\n",
       "      <td>38.222</td>\n",
       "      <td>-85.761</td>\n",
       "      <td>38.221</td>\n",
       "      <td>-85.761</td>\n",
       "      <td>0.04</td>\n",
       "    </tr>\n",
       "    <tr>\n",
       "      <th>4</th>\n",
       "      <td>2019</td>\n",
       "      <td>1</td>\n",
       "      <td>1</td>\n",
       "      <td>12</td>\n",
       "      <td>3</td>\n",
       "      <td>1</td>\n",
       "      <td>38.243</td>\n",
       "      <td>-85.725</td>\n",
       "      <td>38.243</td>\n",
       "      <td>-85.725</td>\n",
       "      <td>0.04</td>\n",
       "    </tr>\n",
       "  </tbody>\n",
       "</table>\n",
       "</div>"
      ],
      "text/plain": [
       "   year  month  day  time  dayInWeek  duration  startLat  startLog  endLat  \\\n",
       "0  2019     10    8    19          3         3    38.257   -85.748  38.256   \n",
       "1  2019      4   13    13          7         1    38.251   -85.758  38.251   \n",
       "2  2019      4   28     8          1         1    38.254   -85.757  38.254   \n",
       "3  2019      2   15    23          6         3    38.222   -85.761  38.221   \n",
       "4  2019      1    1    12          3         1    38.243   -85.725  38.243   \n",
       "\n",
       "   endLog  distance  \n",
       "0 -85.746      0.04  \n",
       "1 -85.758      0.04  \n",
       "2 -85.757      0.04  \n",
       "3 -85.761      0.04  \n",
       "4 -85.725      0.04  "
      ]
     },
     "execution_count": 2,
     "metadata": {},
     "output_type": "execute_result"
    }
   ],
   "source": [
    "data=pd.read_csv('ResearchData.csv')\n",
    "data.head()"
   ]
  },
  {
   "cell_type": "code",
   "execution_count": 4,
   "id": "civil-volleyball",
   "metadata": {},
   "outputs": [
    {
     "data": {
      "text/plain": [
       "year         0\n",
       "month        0\n",
       "day          0\n",
       "time         0\n",
       "dayInWeek    0\n",
       "duration     0\n",
       "startLat     0\n",
       "startLog     0\n",
       "endLat       0\n",
       "endLog       0\n",
       "distance     0\n",
       "dtype: int64"
      ]
     },
     "execution_count": 4,
     "metadata": {},
     "output_type": "execute_result"
    }
   ],
   "source": [
    "data.isna().sum()"
   ]
  },
  {
   "cell_type": "code",
   "execution_count": 5,
   "id": "driving-roberts",
   "metadata": {},
   "outputs": [
    {
     "name": "stdout",
     "output_type": "stream",
     "text": [
      "<class 'pandas.core.frame.DataFrame'>\n",
      "RangeIndex: 395702 entries, 0 to 395701\n",
      "Data columns (total 11 columns):\n",
      " #   Column     Non-Null Count   Dtype  \n",
      "---  ------     --------------   -----  \n",
      " 0   year       395702 non-null  int64  \n",
      " 1   month      395702 non-null  int64  \n",
      " 2   day        395702 non-null  int64  \n",
      " 3   time       395702 non-null  int64  \n",
      " 4   dayInWeek  395702 non-null  int64  \n",
      " 5   duration   395702 non-null  int64  \n",
      " 6   startLat   395702 non-null  float64\n",
      " 7   startLog   395702 non-null  float64\n",
      " 8   endLat     395702 non-null  float64\n",
      " 9   endLog     395702 non-null  float64\n",
      " 10  distance   395702 non-null  float64\n",
      "dtypes: float64(5), int64(6)\n",
      "memory usage: 33.2 MB\n"
     ]
    }
   ],
   "source": [
    "data.info()"
   ]
  },
  {
   "cell_type": "code",
   "execution_count": 6,
   "id": "apart-monday",
   "metadata": {},
   "outputs": [
    {
     "data": {
      "text/html": [
       "<div>\n",
       "<style scoped>\n",
       "    .dataframe tbody tr th:only-of-type {\n",
       "        vertical-align: middle;\n",
       "    }\n",
       "\n",
       "    .dataframe tbody tr th {\n",
       "        vertical-align: top;\n",
       "    }\n",
       "\n",
       "    .dataframe thead th {\n",
       "        text-align: right;\n",
       "    }\n",
       "</style>\n",
       "<table border=\"1\" class=\"dataframe\">\n",
       "  <thead>\n",
       "    <tr style=\"text-align: right;\">\n",
       "      <th></th>\n",
       "      <th>dayInWeek</th>\n",
       "      <th>duration</th>\n",
       "      <th>startLat</th>\n",
       "      <th>startLog</th>\n",
       "      <th>endLat</th>\n",
       "      <th>endLog</th>\n",
       "      <th>distance</th>\n",
       "    </tr>\n",
       "  </thead>\n",
       "  <tbody>\n",
       "    <tr>\n",
       "      <th>0</th>\n",
       "      <td>3</td>\n",
       "      <td>3</td>\n",
       "      <td>38.257</td>\n",
       "      <td>-85.748</td>\n",
       "      <td>38.256</td>\n",
       "      <td>-85.746</td>\n",
       "      <td>0.04</td>\n",
       "    </tr>\n",
       "    <tr>\n",
       "      <th>1</th>\n",
       "      <td>7</td>\n",
       "      <td>1</td>\n",
       "      <td>38.251</td>\n",
       "      <td>-85.758</td>\n",
       "      <td>38.251</td>\n",
       "      <td>-85.758</td>\n",
       "      <td>0.04</td>\n",
       "    </tr>\n",
       "    <tr>\n",
       "      <th>2</th>\n",
       "      <td>1</td>\n",
       "      <td>1</td>\n",
       "      <td>38.254</td>\n",
       "      <td>-85.757</td>\n",
       "      <td>38.254</td>\n",
       "      <td>-85.757</td>\n",
       "      <td>0.04</td>\n",
       "    </tr>\n",
       "    <tr>\n",
       "      <th>3</th>\n",
       "      <td>6</td>\n",
       "      <td>3</td>\n",
       "      <td>38.222</td>\n",
       "      <td>-85.761</td>\n",
       "      <td>38.221</td>\n",
       "      <td>-85.761</td>\n",
       "      <td>0.04</td>\n",
       "    </tr>\n",
       "    <tr>\n",
       "      <th>4</th>\n",
       "      <td>3</td>\n",
       "      <td>1</td>\n",
       "      <td>38.243</td>\n",
       "      <td>-85.725</td>\n",
       "      <td>38.243</td>\n",
       "      <td>-85.725</td>\n",
       "      <td>0.04</td>\n",
       "    </tr>\n",
       "  </tbody>\n",
       "</table>\n",
       "</div>"
      ],
      "text/plain": [
       "   dayInWeek  duration  startLat  startLog  endLat  endLog  distance\n",
       "0          3         3    38.257   -85.748  38.256 -85.746      0.04\n",
       "1          7         1    38.251   -85.758  38.251 -85.758      0.04\n",
       "2          1         1    38.254   -85.757  38.254 -85.757      0.04\n",
       "3          6         3    38.222   -85.761  38.221 -85.761      0.04\n",
       "4          3         1    38.243   -85.725  38.243 -85.725      0.04"
      ]
     },
     "execution_count": 6,
     "metadata": {},
     "output_type": "execute_result"
    }
   ],
   "source": [
    "data.drop(data.columns[[0, 1,2,3]], axis = 1, inplace = True)\n",
    "data.head()"
   ]
  },
  {
   "cell_type": "code",
   "execution_count": 7,
   "id": "whole-dialogue",
   "metadata": {},
   "outputs": [
    {
     "data": {
      "text/html": [
       "<div>\n",
       "<style scoped>\n",
       "    .dataframe tbody tr th:only-of-type {\n",
       "        vertical-align: middle;\n",
       "    }\n",
       "\n",
       "    .dataframe tbody tr th {\n",
       "        vertical-align: top;\n",
       "    }\n",
       "\n",
       "    .dataframe thead th {\n",
       "        text-align: right;\n",
       "    }\n",
       "</style>\n",
       "<table border=\"1\" class=\"dataframe\">\n",
       "  <thead>\n",
       "    <tr style=\"text-align: right;\">\n",
       "      <th></th>\n",
       "      <th>dayInWeek</th>\n",
       "      <th>duration</th>\n",
       "      <th>startLat</th>\n",
       "      <th>startLog</th>\n",
       "      <th>endLat</th>\n",
       "      <th>endLog</th>\n",
       "      <th>distance</th>\n",
       "      <th>cost</th>\n",
       "    </tr>\n",
       "  </thead>\n",
       "  <tbody>\n",
       "    <tr>\n",
       "      <th>0</th>\n",
       "      <td>3</td>\n",
       "      <td>3</td>\n",
       "      <td>38.257</td>\n",
       "      <td>-85.748</td>\n",
       "      <td>38.256</td>\n",
       "      <td>-85.746</td>\n",
       "      <td>0.04</td>\n",
       "      <td>2.26</td>\n",
       "    </tr>\n",
       "    <tr>\n",
       "      <th>1</th>\n",
       "      <td>7</td>\n",
       "      <td>1</td>\n",
       "      <td>38.251</td>\n",
       "      <td>-85.758</td>\n",
       "      <td>38.251</td>\n",
       "      <td>-85.758</td>\n",
       "      <td>0.04</td>\n",
       "      <td>0.76</td>\n",
       "    </tr>\n",
       "    <tr>\n",
       "      <th>2</th>\n",
       "      <td>1</td>\n",
       "      <td>1</td>\n",
       "      <td>38.254</td>\n",
       "      <td>-85.757</td>\n",
       "      <td>38.254</td>\n",
       "      <td>-85.757</td>\n",
       "      <td>0.04</td>\n",
       "      <td>0.76</td>\n",
       "    </tr>\n",
       "    <tr>\n",
       "      <th>3</th>\n",
       "      <td>6</td>\n",
       "      <td>3</td>\n",
       "      <td>38.222</td>\n",
       "      <td>-85.761</td>\n",
       "      <td>38.221</td>\n",
       "      <td>-85.761</td>\n",
       "      <td>0.04</td>\n",
       "      <td>2.26</td>\n",
       "    </tr>\n",
       "    <tr>\n",
       "      <th>4</th>\n",
       "      <td>3</td>\n",
       "      <td>1</td>\n",
       "      <td>38.243</td>\n",
       "      <td>-85.725</td>\n",
       "      <td>38.243</td>\n",
       "      <td>-85.725</td>\n",
       "      <td>0.04</td>\n",
       "      <td>0.76</td>\n",
       "    </tr>\n",
       "  </tbody>\n",
       "</table>\n",
       "</div>"
      ],
      "text/plain": [
       "   dayInWeek  duration  startLat  startLog  endLat  endLog  distance  cost\n",
       "0          3         3    38.257   -85.748  38.256 -85.746      0.04  2.26\n",
       "1          7         1    38.251   -85.758  38.251 -85.758      0.04  0.76\n",
       "2          1         1    38.254   -85.757  38.254 -85.757      0.04  0.76\n",
       "3          6         3    38.222   -85.761  38.221 -85.761      0.04  2.26\n",
       "4          3         1    38.243   -85.725  38.243 -85.725      0.04  0.76"
      ]
     },
     "execution_count": 7,
     "metadata": {},
     "output_type": "execute_result"
    }
   ],
   "source": [
    "def cost(row, alpha):\n",
    "    return (row['distance'] * alpha) + (row['duration']* (1-alpha))\n",
    "data['cost'] = data.apply (lambda row: cost(row,0.25), axis=1)\n",
    "\n",
    "data.head()"
   ]
  },
  {
   "cell_type": "code",
   "execution_count": 8,
   "id": "preceding-linux",
   "metadata": {},
   "outputs": [],
   "source": [
    "def id(row):\n",
    "    return uuid.uuid4().int\n",
    "data['id'] = data.apply (lambda row: id(row), axis=1)\n"
   ]
  },
  {
   "cell_type": "markdown",
   "id": "cleared-prize",
   "metadata": {},
   "source": [
    "# At this point the data is complete and has all the variables we want"
   ]
  },
  {
   "cell_type": "code",
   "execution_count": 38,
   "id": "weekly-shade",
   "metadata": {},
   "outputs": [
    {
     "data": {
      "text/html": [
       "<div>\n",
       "<style scoped>\n",
       "    .dataframe tbody tr th:only-of-type {\n",
       "        vertical-align: middle;\n",
       "    }\n",
       "\n",
       "    .dataframe tbody tr th {\n",
       "        vertical-align: top;\n",
       "    }\n",
       "\n",
       "    .dataframe thead th {\n",
       "        text-align: right;\n",
       "    }\n",
       "</style>\n",
       "<table border=\"1\" class=\"dataframe\">\n",
       "  <thead>\n",
       "    <tr style=\"text-align: right;\">\n",
       "      <th></th>\n",
       "      <th>dayInWeek</th>\n",
       "      <th>duration</th>\n",
       "      <th>startLat</th>\n",
       "      <th>startLog</th>\n",
       "      <th>endLat</th>\n",
       "      <th>endLog</th>\n",
       "      <th>distance</th>\n",
       "      <th>cost</th>\n",
       "      <th>id</th>\n",
       "    </tr>\n",
       "  </thead>\n",
       "  <tbody>\n",
       "    <tr>\n",
       "      <th>0</th>\n",
       "      <td>3</td>\n",
       "      <td>3</td>\n",
       "      <td>38.257</td>\n",
       "      <td>-85.748</td>\n",
       "      <td>38.256</td>\n",
       "      <td>-85.746</td>\n",
       "      <td>0.040</td>\n",
       "      <td>2.26000</td>\n",
       "      <td>4376646700694045238513405067416139424</td>\n",
       "    </tr>\n",
       "    <tr>\n",
       "      <th>1</th>\n",
       "      <td>7</td>\n",
       "      <td>1</td>\n",
       "      <td>38.251</td>\n",
       "      <td>-85.758</td>\n",
       "      <td>38.251</td>\n",
       "      <td>-85.758</td>\n",
       "      <td>0.040</td>\n",
       "      <td>0.76000</td>\n",
       "      <td>199120022379041721408223456302262827013</td>\n",
       "    </tr>\n",
       "    <tr>\n",
       "      <th>2</th>\n",
       "      <td>1</td>\n",
       "      <td>1</td>\n",
       "      <td>38.254</td>\n",
       "      <td>-85.757</td>\n",
       "      <td>38.254</td>\n",
       "      <td>-85.757</td>\n",
       "      <td>0.040</td>\n",
       "      <td>0.76000</td>\n",
       "      <td>243483777086129300162742380036950420387</td>\n",
       "    </tr>\n",
       "    <tr>\n",
       "      <th>3</th>\n",
       "      <td>6</td>\n",
       "      <td>3</td>\n",
       "      <td>38.222</td>\n",
       "      <td>-85.761</td>\n",
       "      <td>38.221</td>\n",
       "      <td>-85.761</td>\n",
       "      <td>0.040</td>\n",
       "      <td>2.26000</td>\n",
       "      <td>210104233498210687410119607329562598454</td>\n",
       "    </tr>\n",
       "    <tr>\n",
       "      <th>4</th>\n",
       "      <td>3</td>\n",
       "      <td>1</td>\n",
       "      <td>38.243</td>\n",
       "      <td>-85.725</td>\n",
       "      <td>38.243</td>\n",
       "      <td>-85.725</td>\n",
       "      <td>0.040</td>\n",
       "      <td>0.76000</td>\n",
       "      <td>76456419116953083157249536668035857559</td>\n",
       "    </tr>\n",
       "    <tr>\n",
       "      <th>...</th>\n",
       "      <td>...</td>\n",
       "      <td>...</td>\n",
       "      <td>...</td>\n",
       "      <td>...</td>\n",
       "      <td>...</td>\n",
       "      <td>...</td>\n",
       "      <td>...</td>\n",
       "      <td>...</td>\n",
       "      <td>...</td>\n",
       "    </tr>\n",
       "    <tr>\n",
       "      <th>395697</th>\n",
       "      <td>2</td>\n",
       "      <td>53</td>\n",
       "      <td>38.236</td>\n",
       "      <td>-85.717</td>\n",
       "      <td>38.237</td>\n",
       "      <td>-85.716</td>\n",
       "      <td>5.090</td>\n",
       "      <td>41.02250</td>\n",
       "      <td>177711473039419969596558057182160015689</td>\n",
       "    </tr>\n",
       "    <tr>\n",
       "      <th>395698</th>\n",
       "      <td>7</td>\n",
       "      <td>31</td>\n",
       "      <td>38.231</td>\n",
       "      <td>-85.760</td>\n",
       "      <td>38.254</td>\n",
       "      <td>-85.750</td>\n",
       "      <td>5.093</td>\n",
       "      <td>24.52325</td>\n",
       "      <td>270904438531432418356691618952629053377</td>\n",
       "    </tr>\n",
       "    <tr>\n",
       "      <th>395699</th>\n",
       "      <td>2</td>\n",
       "      <td>27</td>\n",
       "      <td>38.190</td>\n",
       "      <td>-85.726</td>\n",
       "      <td>38.209</td>\n",
       "      <td>-85.738</td>\n",
       "      <td>5.095</td>\n",
       "      <td>21.52375</td>\n",
       "      <td>237218938788708777997439626975477352804</td>\n",
       "    </tr>\n",
       "    <tr>\n",
       "      <th>395700</th>\n",
       "      <td>7</td>\n",
       "      <td>32</td>\n",
       "      <td>38.254</td>\n",
       "      <td>-85.749</td>\n",
       "      <td>38.294</td>\n",
       "      <td>-85.711</td>\n",
       "      <td>5.095</td>\n",
       "      <td>25.27375</td>\n",
       "      <td>99318012499466862040445647034397707582</td>\n",
       "    </tr>\n",
       "    <tr>\n",
       "      <th>395701</th>\n",
       "      <td>4</td>\n",
       "      <td>57</td>\n",
       "      <td>38.258</td>\n",
       "      <td>-85.757</td>\n",
       "      <td>38.253</td>\n",
       "      <td>-85.757</td>\n",
       "      <td>5.095</td>\n",
       "      <td>44.02375</td>\n",
       "      <td>103896990282152967419149904819448098517</td>\n",
       "    </tr>\n",
       "  </tbody>\n",
       "</table>\n",
       "<p>395702 rows × 9 columns</p>\n",
       "</div>"
      ],
      "text/plain": [
       "        dayInWeek  duration  startLat  startLog  endLat  endLog  distance  \\\n",
       "0               3         3    38.257   -85.748  38.256 -85.746     0.040   \n",
       "1               7         1    38.251   -85.758  38.251 -85.758     0.040   \n",
       "2               1         1    38.254   -85.757  38.254 -85.757     0.040   \n",
       "3               6         3    38.222   -85.761  38.221 -85.761     0.040   \n",
       "4               3         1    38.243   -85.725  38.243 -85.725     0.040   \n",
       "...           ...       ...       ...       ...     ...     ...       ...   \n",
       "395697          2        53    38.236   -85.717  38.237 -85.716     5.090   \n",
       "395698          7        31    38.231   -85.760  38.254 -85.750     5.093   \n",
       "395699          2        27    38.190   -85.726  38.209 -85.738     5.095   \n",
       "395700          7        32    38.254   -85.749  38.294 -85.711     5.095   \n",
       "395701          4        57    38.258   -85.757  38.253 -85.757     5.095   \n",
       "\n",
       "            cost                                       id  \n",
       "0        2.26000    4376646700694045238513405067416139424  \n",
       "1        0.76000  199120022379041721408223456302262827013  \n",
       "2        0.76000  243483777086129300162742380036950420387  \n",
       "3        2.26000  210104233498210687410119607329562598454  \n",
       "4        0.76000   76456419116953083157249536668035857559  \n",
       "...          ...                                      ...  \n",
       "395697  41.02250  177711473039419969596558057182160015689  \n",
       "395698  24.52325  270904438531432418356691618952629053377  \n",
       "395699  21.52375  237218938788708777997439626975477352804  \n",
       "395700  25.27375   99318012499466862040445647034397707582  \n",
       "395701  44.02375  103896990282152967419149904819448098517  \n",
       "\n",
       "[395702 rows x 9 columns]"
      ]
     },
     "execution_count": 38,
     "metadata": {},
     "output_type": "execute_result"
    }
   ],
   "source": [
    "data"
   ]
  },
  {
   "cell_type": "code",
   "execution_count": 9,
   "id": "australian-criticism",
   "metadata": {},
   "outputs": [],
   "source": [
    "grouped = data.groupby(data.dayInWeek)\n",
    "Sunday = grouped.get_group(1)\n",
    "Monday = grouped.get_group(2)\n",
    "Tuesday = grouped.get_group(3)\n",
    "Wednesday = grouped.get_group(4)\n",
    "Thursday = grouped.get_group(5)\n",
    "Friday = grouped.get_group(6)\n",
    "Saturday = grouped.get_group(7)\n",
    "daysOfWeek = [Sunday, Monday, Tuesday, Wednesday, Thursday,Friday, Saturday]\n"
   ]
  },
  {
   "cell_type": "code",
   "execution_count": 10,
   "id": "whole-savings",
   "metadata": {},
   "outputs": [],
   "source": [
    "daysOfWeekCluster = []\n",
    "for day in daysOfWeek:\n",
    "    daysOfWeekCluster.append(day.drop(['dayInWeek', 'duration', \n",
    "                'startLat', 'startLog','endLat', 'endLog', 'distance'], axis=1, inplace=False))\n",
    "\n",
    "\n"
   ]
  },
  {
   "cell_type": "code",
   "execution_count": 62,
   "id": "automatic-chemical",
   "metadata": {},
   "outputs": [
    {
     "data": {
      "text/html": [
       "<div>\n",
       "<style scoped>\n",
       "    .dataframe tbody tr th:only-of-type {\n",
       "        vertical-align: middle;\n",
       "    }\n",
       "\n",
       "    .dataframe tbody tr th {\n",
       "        vertical-align: top;\n",
       "    }\n",
       "\n",
       "    .dataframe thead th {\n",
       "        text-align: right;\n",
       "    }\n",
       "</style>\n",
       "<table border=\"1\" class=\"dataframe\">\n",
       "  <thead>\n",
       "    <tr style=\"text-align: right;\">\n",
       "      <th></th>\n",
       "      <th>dayInWeek</th>\n",
       "      <th>duration</th>\n",
       "      <th>startLat</th>\n",
       "      <th>startLog</th>\n",
       "      <th>endLat</th>\n",
       "      <th>endLog</th>\n",
       "      <th>distance</th>\n",
       "      <th>cost</th>\n",
       "      <th>id</th>\n",
       "    </tr>\n",
       "  </thead>\n",
       "  <tbody>\n",
       "    <tr>\n",
       "      <th>2</th>\n",
       "      <td>1</td>\n",
       "      <td>1</td>\n",
       "      <td>38.254</td>\n",
       "      <td>-85.757</td>\n",
       "      <td>38.254</td>\n",
       "      <td>-85.757</td>\n",
       "      <td>0.04</td>\n",
       "      <td>0.7600</td>\n",
       "      <td>78868736581728165509762791171128147525</td>\n",
       "    </tr>\n",
       "    <tr>\n",
       "      <th>8</th>\n",
       "      <td>1</td>\n",
       "      <td>42</td>\n",
       "      <td>38.253</td>\n",
       "      <td>-85.758</td>\n",
       "      <td>38.253</td>\n",
       "      <td>-85.759</td>\n",
       "      <td>0.04</td>\n",
       "      <td>31.5100</td>\n",
       "      <td>231042267605426577419465607155508574946</td>\n",
       "    </tr>\n",
       "    <tr>\n",
       "      <th>12</th>\n",
       "      <td>1</td>\n",
       "      <td>5</td>\n",
       "      <td>38.258</td>\n",
       "      <td>-85.744</td>\n",
       "      <td>38.257</td>\n",
       "      <td>-85.744</td>\n",
       "      <td>0.04</td>\n",
       "      <td>3.7600</td>\n",
       "      <td>75618529998105362111401218023208310973</td>\n",
       "    </tr>\n",
       "    <tr>\n",
       "      <th>14</th>\n",
       "      <td>1</td>\n",
       "      <td>0</td>\n",
       "      <td>38.257</td>\n",
       "      <td>-85.745</td>\n",
       "      <td>38.258</td>\n",
       "      <td>-85.745</td>\n",
       "      <td>0.04</td>\n",
       "      <td>0.0100</td>\n",
       "      <td>220072564263942230157515108951488936433</td>\n",
       "    </tr>\n",
       "    <tr>\n",
       "      <th>22</th>\n",
       "      <td>1</td>\n",
       "      <td>1</td>\n",
       "      <td>38.238</td>\n",
       "      <td>-85.719</td>\n",
       "      <td>38.237</td>\n",
       "      <td>-85.719</td>\n",
       "      <td>0.04</td>\n",
       "      <td>0.7600</td>\n",
       "      <td>189040842368182184653903417912015637710</td>\n",
       "    </tr>\n",
       "    <tr>\n",
       "      <th>...</th>\n",
       "      <td>...</td>\n",
       "      <td>...</td>\n",
       "      <td>...</td>\n",
       "      <td>...</td>\n",
       "      <td>...</td>\n",
       "      <td>...</td>\n",
       "      <td>...</td>\n",
       "      <td>...</td>\n",
       "      <td>...</td>\n",
       "    </tr>\n",
       "    <tr>\n",
       "      <th>395670</th>\n",
       "      <td>1</td>\n",
       "      <td>46</td>\n",
       "      <td>38.256</td>\n",
       "      <td>-85.762</td>\n",
       "      <td>38.257</td>\n",
       "      <td>-85.762</td>\n",
       "      <td>5.09</td>\n",
       "      <td>35.7725</td>\n",
       "      <td>148413601730995877165296120739822153300</td>\n",
       "    </tr>\n",
       "    <tr>\n",
       "      <th>395674</th>\n",
       "      <td>1</td>\n",
       "      <td>24</td>\n",
       "      <td>38.214</td>\n",
       "      <td>-85.741</td>\n",
       "      <td>38.261</td>\n",
       "      <td>-85.780</td>\n",
       "      <td>5.09</td>\n",
       "      <td>19.2725</td>\n",
       "      <td>335367808179780708112345703875737467871</td>\n",
       "    </tr>\n",
       "    <tr>\n",
       "      <th>395683</th>\n",
       "      <td>1</td>\n",
       "      <td>64</td>\n",
       "      <td>38.253</td>\n",
       "      <td>-85.759</td>\n",
       "      <td>38.271</td>\n",
       "      <td>-85.755</td>\n",
       "      <td>5.09</td>\n",
       "      <td>49.2725</td>\n",
       "      <td>98709903568916073605513889720473692548</td>\n",
       "    </tr>\n",
       "    <tr>\n",
       "      <th>395691</th>\n",
       "      <td>1</td>\n",
       "      <td>32</td>\n",
       "      <td>38.213</td>\n",
       "      <td>-85.742</td>\n",
       "      <td>38.225</td>\n",
       "      <td>-85.672</td>\n",
       "      <td>5.09</td>\n",
       "      <td>25.2725</td>\n",
       "      <td>104282282203882551520969220169774910244</td>\n",
       "    </tr>\n",
       "    <tr>\n",
       "      <th>395696</th>\n",
       "      <td>1</td>\n",
       "      <td>42</td>\n",
       "      <td>38.258</td>\n",
       "      <td>-85.745</td>\n",
       "      <td>38.259</td>\n",
       "      <td>-85.748</td>\n",
       "      <td>5.09</td>\n",
       "      <td>32.7725</td>\n",
       "      <td>81877004795080996261842951147230807376</td>\n",
       "    </tr>\n",
       "  </tbody>\n",
       "</table>\n",
       "<p>51678 rows × 9 columns</p>\n",
       "</div>"
      ],
      "text/plain": [
       "        dayInWeek  duration  startLat  startLog  endLat  endLog  distance  \\\n",
       "2               1         1    38.254   -85.757  38.254 -85.757      0.04   \n",
       "8               1        42    38.253   -85.758  38.253 -85.759      0.04   \n",
       "12              1         5    38.258   -85.744  38.257 -85.744      0.04   \n",
       "14              1         0    38.257   -85.745  38.258 -85.745      0.04   \n",
       "22              1         1    38.238   -85.719  38.237 -85.719      0.04   \n",
       "...           ...       ...       ...       ...     ...     ...       ...   \n",
       "395670          1        46    38.256   -85.762  38.257 -85.762      5.09   \n",
       "395674          1        24    38.214   -85.741  38.261 -85.780      5.09   \n",
       "395683          1        64    38.253   -85.759  38.271 -85.755      5.09   \n",
       "395691          1        32    38.213   -85.742  38.225 -85.672      5.09   \n",
       "395696          1        42    38.258   -85.745  38.259 -85.748      5.09   \n",
       "\n",
       "           cost                                       id  \n",
       "2        0.7600   78868736581728165509762791171128147525  \n",
       "8       31.5100  231042267605426577419465607155508574946  \n",
       "12       3.7600   75618529998105362111401218023208310973  \n",
       "14       0.0100  220072564263942230157515108951488936433  \n",
       "22       0.7600  189040842368182184653903417912015637710  \n",
       "...         ...                                      ...  \n",
       "395670  35.7725  148413601730995877165296120739822153300  \n",
       "395674  19.2725  335367808179780708112345703875737467871  \n",
       "395683  49.2725   98709903568916073605513889720473692548  \n",
       "395691  25.2725  104282282203882551520969220169774910244  \n",
       "395696  32.7725   81877004795080996261842951147230807376  \n",
       "\n",
       "[51678 rows x 9 columns]"
      ]
     },
     "execution_count": 62,
     "metadata": {},
     "output_type": "execute_result"
    }
   ],
   "source": [
    "Sunday"
   ]
  },
  {
   "cell_type": "markdown",
   "id": "informational-prefix",
   "metadata": {},
   "source": [
    "We create the cluster version and have a UUID because we don't want the clustering algorithim to consider the other features. We want it to be based off cost and cost alone. Which means that unfortunately we have two features cost and Id. but since ID is random hopefully all clustering will be based off of COST rather than trends in random numbers"
   ]
  },
  {
   "cell_type": "code",
   "execution_count": 12,
   "id": "worst-pattern",
   "metadata": {},
   "outputs": [
    {
     "data": {
      "text/html": [
       "<div>\n",
       "<style scoped>\n",
       "    .dataframe tbody tr th:only-of-type {\n",
       "        vertical-align: middle;\n",
       "    }\n",
       "\n",
       "    .dataframe tbody tr th {\n",
       "        vertical-align: top;\n",
       "    }\n",
       "\n",
       "    .dataframe thead th {\n",
       "        text-align: right;\n",
       "    }\n",
       "</style>\n",
       "<table border=\"1\" class=\"dataframe\">\n",
       "  <thead>\n",
       "    <tr style=\"text-align: right;\">\n",
       "      <th></th>\n",
       "      <th>cost</th>\n",
       "      <th>id</th>\n",
       "    </tr>\n",
       "  </thead>\n",
       "  <tbody>\n",
       "    <tr>\n",
       "      <th>2</th>\n",
       "      <td>0.7600</td>\n",
       "      <td>78868736581728165509762791171128147525</td>\n",
       "    </tr>\n",
       "    <tr>\n",
       "      <th>8</th>\n",
       "      <td>31.5100</td>\n",
       "      <td>231042267605426577419465607155508574946</td>\n",
       "    </tr>\n",
       "    <tr>\n",
       "      <th>12</th>\n",
       "      <td>3.7600</td>\n",
       "      <td>75618529998105362111401218023208310973</td>\n",
       "    </tr>\n",
       "    <tr>\n",
       "      <th>14</th>\n",
       "      <td>0.0100</td>\n",
       "      <td>220072564263942230157515108951488936433</td>\n",
       "    </tr>\n",
       "    <tr>\n",
       "      <th>22</th>\n",
       "      <td>0.7600</td>\n",
       "      <td>189040842368182184653903417912015637710</td>\n",
       "    </tr>\n",
       "    <tr>\n",
       "      <th>...</th>\n",
       "      <td>...</td>\n",
       "      <td>...</td>\n",
       "    </tr>\n",
       "    <tr>\n",
       "      <th>395670</th>\n",
       "      <td>35.7725</td>\n",
       "      <td>148413601730995877165296120739822153300</td>\n",
       "    </tr>\n",
       "    <tr>\n",
       "      <th>395674</th>\n",
       "      <td>19.2725</td>\n",
       "      <td>335367808179780708112345703875737467871</td>\n",
       "    </tr>\n",
       "    <tr>\n",
       "      <th>395683</th>\n",
       "      <td>49.2725</td>\n",
       "      <td>98709903568916073605513889720473692548</td>\n",
       "    </tr>\n",
       "    <tr>\n",
       "      <th>395691</th>\n",
       "      <td>25.2725</td>\n",
       "      <td>104282282203882551520969220169774910244</td>\n",
       "    </tr>\n",
       "    <tr>\n",
       "      <th>395696</th>\n",
       "      <td>32.7725</td>\n",
       "      <td>81877004795080996261842951147230807376</td>\n",
       "    </tr>\n",
       "  </tbody>\n",
       "</table>\n",
       "<p>51678 rows × 2 columns</p>\n",
       "</div>"
      ],
      "text/plain": [
       "           cost                                       id\n",
       "2        0.7600   78868736581728165509762791171128147525\n",
       "8       31.5100  231042267605426577419465607155508574946\n",
       "12       3.7600   75618529998105362111401218023208310973\n",
       "14       0.0100  220072564263942230157515108951488936433\n",
       "22       0.7600  189040842368182184653903417912015637710\n",
       "...         ...                                      ...\n",
       "395670  35.7725  148413601730995877165296120739822153300\n",
       "395674  19.2725  335367808179780708112345703875737467871\n",
       "395683  49.2725   98709903568916073605513889720473692548\n",
       "395691  25.2725  104282282203882551520969220169774910244\n",
       "395696  32.7725   81877004795080996261842951147230807376\n",
       "\n",
       "[51678 rows x 2 columns]"
      ]
     },
     "execution_count": 12,
     "metadata": {},
     "output_type": "execute_result"
    }
   ],
   "source": [
    "\n",
    "daysOfWeekCluster[0]"
   ]
  },
  {
   "cell_type": "code",
   "execution_count": 13,
   "id": "external-breathing",
   "metadata": {},
   "outputs": [
    {
     "data": {
      "image/png": "[encoded data removed]",
      "text/plain": [
       "<Figure size 432x288 with 1 Axes>"
      ]
     },
     "metadata": {},
     "output_type": "display_data"
    },
    {
     "data": {
      "text/plain": [
       "3"
      ]
     },
     "execution_count": 13,
     "metadata": {},
     "output_type": "execute_result"
    }
   ],
   "source": [
    "kmeans_kwargs = {\n",
    "    \"init\": \"random\",\n",
    "    \"n_init\": 10,\n",
    "    \"max_iter\": 300,\n",
    "    \"random_state\": 42,\n",
    "}\n",
    "sse = []\n",
    "for k in range (1, 11):\n",
    "    kmeans = KMeans(n_clusters=k, **kmeans_kwargs)\n",
    "    kmeans.fit(daysOfWeekCluster[0])\n",
    "    sse.append(kmeans.inertia_)\n",
    "plt.style.use(\"ggplot\")\n",
    "plt.plot(range(1, 11), sse)\n",
    "plt.xticks(range(1, 11))\n",
    "plt.xlabel(\"Number of Clusters\")\n",
    "plt.ylabel(\"SSE\")\n",
    "plt.show()\n",
    "kl = KneeLocator(\n",
    "    range(1, 11), sse, curve=\"convex\", direction=\"decreasing\"\n",
    ")\n",
    "\n",
    "sundayClusters = kl.elbow"
   ]
  },
  {
   "cell_type": "markdown",
   "id": "swiss-banking",
   "metadata": {},
   "source": [
    "Thus it must be that for Sunday we have 3 as ideal number of clusters. So now we will find data in each cluster and save it into a dataframe. "
   ]
  },
  {
   "cell_type": "code",
   "execution_count": 78,
   "id": "offensive-texture",
   "metadata": {},
   "outputs": [
    {
     "name": "stdout",
     "output_type": "stream",
     "text": [
      "      dayInWeek duration  startLat  startLog  endLat  endLog  distance  \\\n",
      "0             1        0    38.257   -85.745  38.258 -85.745      0.04   \n",
      "1             1        1    38.238   -85.719  38.237 -85.719      0.04   \n",
      "2             1        2    38.232   -85.709  38.232 -85.709      0.04   \n",
      "3             1        3    38.255   -85.759  38.255 -85.758      0.04   \n",
      "4             1        5    38.252   -85.756  38.252 -85.755      0.04   \n",
      "...         ...      ...       ...       ...     ...     ...       ...   \n",
      "17458         1       55    38.258   -85.745  38.258 -85.745      5.08   \n",
      "17459         1       53    38.235   -85.766  38.253 -85.757      5.08   \n",
      "17460         1       77    38.254   -85.746  38.254 -85.748      5.09   \n",
      "17461         1       51    38.256   -85.753  38.258 -85.750      5.09   \n",
      "17462         1       46    38.256   -85.762  38.257 -85.762      5.09   \n",
      "\n",
      "          cost                                       id  \n",
      "0       0.0100  220072564263942230157515108951488936433  \n",
      "1       0.7600  189040842368182184653903417912015637710  \n",
      "2       1.5100  159568688709975915503244853247250604852  \n",
      "3       2.2600  180454258281459918881904451301848526810  \n",
      "4       3.7600  139679837055078894548965138041531686979  \n",
      "...        ...                                      ...  \n",
      "17458  42.5200  214985995157641679408164425332907899990  \n",
      "17459  41.0200  188669202626732972231744603800060129781  \n",
      "17460  59.0225  202588925776268082139367038904538444250  \n",
      "17461  39.5225  189782454408477290542957190062519047401  \n",
      "17462  35.7725  148413601730995877165296120739822153300  \n",
      "\n",
      "[17463 rows x 9 columns]\n"
     ]
    }
   ],
   "source": [
    "kmeans = KMeans(n_clusters=3, **kmeans_kwargs)\n",
    "kmeans.fit(daysOfWeekCluster[0])\n",
    "cluster_map = pd.DataFrame()\n",
    "cluster_map['id'] = daysOfWeekCluster[0].id\n",
    "cluster_map['cluster'] = kmeans.labels_\n",
    "trans_df = cluster_map[cluster_map.cluster == 0].set_index(\"id\").T\n",
    "Sunday1Raw = trans_df.to_dict(\"list\")\n",
    "Sunday1 = pd.DataFrame(columns =['dayInWeek', 'duration', 'startLat', 'startLog', 'endLat', 'endLog',\n",
    "       'distance', 'cost', 'id'])\n",
    "for key in Sunday1Raw.keys():\n",
    "    tempRow  = Sunday.loc[Sunday['id'] == key]\n",
    "    Sunday1 = Sunday1.append(tempRow, ignore_index = True)\n",
    "print(Sunday1)\n",
    "    \n"
   ]
  },
  {
   "cell_type": "markdown",
   "id": "collaborative-heating",
   "metadata": {},
   "source": [
    "Create a function to help us out with this "
   ]
  },
  {
   "cell_type": "code",
   "execution_count": 86,
   "id": "unlike-poetry",
   "metadata": {},
   "outputs": [],
   "source": [
    "def createCluster(dataset, numberOfClusters, currentCluster, dayDataset):\n",
    "    kmeans = KMeans(n_clusters=3, **kmeans_kwargs)\n",
    "    kmeans.fit(dataset)\n",
    "    cluster_map = pd.DataFrame()\n",
    "    cluster_map['id'] = dataset.id\n",
    "    cluster_map['cluster'] = kmeans.labels_\n",
    "    trans_df = cluster_map[cluster_map.cluster == currentCluster].set_index(\"id\").T\n",
    "    tempRaw = trans_df.to_dict(\"list\")\n",
    "    temp = pd.DataFrame(columns =['dayInWeek', 'duration', 'startLat', 'startLog', 'endLat', 'endLog',\n",
    "       'distance', 'cost', 'id'])\n",
    "    for key in tempRaw.keys():\n",
    "        tempRow  = dayDataset.loc[dayDataset['id'] == key]\n",
    "        temp = temp.append(tempRow, ignore_index = True)\n",
    "    return(temp)"
   ]
  },
  {
   "cell_type": "code",
   "execution_count": 87,
   "id": "indie-township",
   "metadata": {},
   "outputs": [],
   "source": [
    "Sunday2= createCluster(daysOfWeekCluster[0], 3, 1, Sunday)"
   ]
  },
  {
   "cell_type": "code",
   "execution_count": 89,
   "id": "opponent-mapping",
   "metadata": {},
   "outputs": [],
   "source": [
    "Sunday3= createCluster(daysOfWeekCluster[0], 3, 2, Sunday)"
   ]
  },
  {
   "cell_type": "markdown",
   "id": "running-habitat",
   "metadata": {},
   "source": [
    "For Sunday we have Sunday1, Sunday2, Sunday3.\n",
    "Monday we have Monday1, Monday2, Monday3\n"
   ]
  },
  {
   "cell_type": "code",
   "execution_count": 90,
   "id": "mexican-parks",
   "metadata": {},
   "outputs": [
    {
     "data": {
      "image/png": "[encoded data removed]",
      "text/plain": [
       "<Figure size 432x288 with 1 Axes>"
      ]
     },
     "metadata": {},
     "output_type": "display_data"
    },
    {
     "data": {
      "text/plain": [
       "3"
      ]
     },
     "execution_count": 90,
     "metadata": {},
     "output_type": "execute_result"
    }
   ],
   "source": [
    "kmeans_kwargs = {\n",
    "    \"init\": \"random\",\n",
    "    \"n_init\": 10,\n",
    "    \"max_iter\": 300,\n",
    "    \"random_state\": 42,\n",
    "}\n",
    "sse = []\n",
    "for k in range (1, 11):\n",
    "    kmeans = KMeans(n_clusters=k, **kmeans_kwargs)\n",
    "    kmeans.fit(daysOfWeekCluster[1])\n",
    "    sse.append(kmeans.inertia_)\n",
    "plt.style.use(\"ggplot\")\n",
    "plt.plot(range(1, 11), sse)\n",
    "plt.xticks(range(1, 11))\n",
    "plt.xlabel(\"Number of Clusters\")\n",
    "plt.ylabel(\"SSE\")\n",
    "plt.show()\n",
    "kl = KneeLocator(\n",
    "    range(1, 11), sse, curve=\"convex\", direction=\"decreasing\"\n",
    ")\n",
    "\n",
    "kl.elbow"
   ]
  },
  {
   "cell_type": "code",
   "execution_count": 91,
   "id": "civic-effect",
   "metadata": {},
   "outputs": [],
   "source": [
    "Monday1= createCluster(daysOfWeekCluster[1], 3, 0, Monday)\n",
    "Monday2= createCluster(daysOfWeekCluster[1], 3, 1, Monday)\n",
    "Monday3= createCluster(daysOfWeekCluster[1], 3, 2, Monday)\n"
   ]
  },
  {
   "cell_type": "markdown",
   "id": "compliant-matrix",
   "metadata": {},
   "source": [
    "Next is Tuesday\n"
   ]
  },
  {
   "cell_type": "code",
   "execution_count": 92,
   "id": "meaningful-richmond",
   "metadata": {},
   "outputs": [
    {
     "data": {
      "image/png": "[encoded data removed]",
      "text/plain": [
       "<Figure size 432x288 with 1 Axes>"
      ]
     },
     "metadata": {},
     "output_type": "display_data"
    },
    {
     "data": {
      "text/plain": [
       "3"
      ]
     },
     "execution_count": 92,
     "metadata": {},
     "output_type": "execute_result"
    }
   ],
   "source": [
    "kmeans_kwargs = {\n",
    "    \"init\": \"random\",\n",
    "    \"n_init\": 10,\n",
    "    \"max_iter\": 300,\n",
    "    \"random_state\": 42,\n",
    "}\n",
    "sse = []\n",
    "for k in range (1, 11):\n",
    "    kmeans = KMeans(n_clusters=k, **kmeans_kwargs)\n",
    "    kmeans.fit(daysOfWeekCluster[2])\n",
    "    sse.append(kmeans.inertia_)\n",
    "plt.style.use(\"ggplot\")\n",
    "plt.plot(range(1, 11), sse)\n",
    "plt.xticks(range(1, 11))\n",
    "plt.xlabel(\"Number of Clusters\")\n",
    "plt.ylabel(\"SSE\")\n",
    "plt.show()\n",
    "kl = KneeLocator(\n",
    "    range(1, 11), sse, curve=\"convex\", direction=\"decreasing\"\n",
    ")\n",
    "\n",
    "kl.elbow"
   ]
  },
  {
   "cell_type": "code",
   "execution_count": 93,
   "id": "sorted-academy",
   "metadata": {},
   "outputs": [],
   "source": [
    "Tuesday1= createCluster(daysOfWeekCluster[2], 3, 0, Tuesday)\n",
    "Tuesday2= createCluster(daysOfWeekCluster[2], 3, 1, Tuesday)\n",
    "Tuesday3= createCluster(daysOfWeekCluster[2], 3, 2, Tuesday)\n"
   ]
  },
  {
   "cell_type": "markdown",
   "id": "discrete-onion",
   "metadata": {},
   "source": [
    "Tuesday is Tuesday1, Tuesday2, Tuesday 3\n",
    "On to Wednesday\n"
   ]
  },
  {
   "cell_type": "code",
   "execution_count": 94,
   "id": "cellular-television",
   "metadata": {},
   "outputs": [
    {
     "data": {
      "image/png": "[encoded data removed]",
      "text/plain": [
       "<Figure size 432x288 with 1 Axes>"
      ]
     },
     "metadata": {},
     "output_type": "display_data"
    },
    {
     "data": {
      "text/plain": [
       "3"
      ]
     },
     "execution_count": 94,
     "metadata": {},
     "output_type": "execute_result"
    }
   ],
   "source": [
    "kmeans_kwargs = {\n",
    "    \"init\": \"random\",\n",
    "    \"n_init\": 10,\n",
    "    \"max_iter\": 300,\n",
    "    \"random_state\": 42,\n",
    "}\n",
    "sse = []\n",
    "for k in range (1, 11):\n",
    "    kmeans = KMeans(n_clusters=k, **kmeans_kwargs)\n",
    "    kmeans.fit(daysOfWeekCluster[3])\n",
    "    sse.append(kmeans.inertia_)\n",
    "plt.style.use(\"ggplot\")\n",
    "plt.plot(range(1, 11), sse)\n",
    "plt.xticks(range(1, 11))\n",
    "plt.xlabel(\"Number of Clusters\")\n",
    "plt.ylabel(\"SSE\")\n",
    "plt.show()\n",
    "kl = KneeLocator(\n",
    "    range(1, 11), sse, curve=\"convex\", direction=\"decreasing\"\n",
    ")\n",
    "\n",
    "kl.elbow"
   ]
  },
  {
   "cell_type": "code",
   "execution_count": 95,
   "id": "capable-vehicle",
   "metadata": {},
   "outputs": [],
   "source": [
    "Wednesday1= createCluster(daysOfWeekCluster[3], 3, 0, Wednesday)\n",
    "Wednesday2= createCluster(daysOfWeekCluster[3], 3, 1, Wednesday)\n",
    "Wednesday3= createCluster(daysOfWeekCluster[3], 3, 2, Wednesday)"
   ]
  },
  {
   "cell_type": "markdown",
   "id": "lovely-entity",
   "metadata": {},
   "source": [
    "Wednesday is Wednesday1, Wednesday2, Wednesday3\n",
    "Onto Thursday"
   ]
  },
  {
   "cell_type": "code",
   "execution_count": 96,
   "id": "reliable-shore",
   "metadata": {},
   "outputs": [
    {
     "data": {
      "image/png": "[encoded data removed]",
      "text/plain": [
       "<Figure size 432x288 with 1 Axes>"
      ]
     },
     "metadata": {},
     "output_type": "display_data"
    },
    {
     "data": {
      "text/plain": [
       "3"
      ]
     },
     "execution_count": 96,
     "metadata": {},
     "output_type": "execute_result"
    }
   ],
   "source": [
    "kmeans_kwargs = {\n",
    "    \"init\": \"random\",\n",
    "    \"n_init\": 10,\n",
    "    \"max_iter\": 300,\n",
    "    \"random_state\": 42,\n",
    "}\n",
    "sse = []\n",
    "for k in range (1, 11):\n",
    "    kmeans = KMeans(n_clusters=k, **kmeans_kwargs)\n",
    "    kmeans.fit(daysOfWeekCluster[4])\n",
    "    sse.append(kmeans.inertia_)\n",
    "plt.style.use(\"ggplot\")\n",
    "plt.plot(range(1, 11), sse)\n",
    "plt.xticks(range(1, 11))\n",
    "plt.xlabel(\"Number of Clusters\")\n",
    "plt.ylabel(\"SSE\")\n",
    "plt.show()\n",
    "kl = KneeLocator(\n",
    "    range(1, 11), sse, curve=\"convex\", direction=\"decreasing\"\n",
    ")\n",
    "\n",
    "kl.elbow"
   ]
  },
  {
   "cell_type": "code",
   "execution_count": 97,
   "id": "plastic-chain",
   "metadata": {},
   "outputs": [],
   "source": [
    "Thursday1= createCluster(daysOfWeekCluster[4], 3, 0, Thursday)\n",
    "Thursday2= createCluster(daysOfWeekCluster[4], 3, 1, Thursday)\n",
    "Thursday3= createCluster(daysOfWeekCluster[4], 3, 2, Thursday)"
   ]
  },
  {
   "cell_type": "markdown",
   "id": "compatible-balance",
   "metadata": {},
   "source": [
    "Thursday is Thursday1, Thursday2, Thursday3.\n",
    "ON to Friday\n"
   ]
  },
  {
   "cell_type": "code",
   "execution_count": 98,
   "id": "accessible-wheat",
   "metadata": {},
   "outputs": [
    {
     "data": {
      "image/png": "[encoded data removed]",
      "text/plain": [
       "<Figure size 432x288 with 1 Axes>"
      ]
     },
     "metadata": {},
     "output_type": "display_data"
    },
    {
     "data": {
      "text/plain": [
       "3"
      ]
     },
     "execution_count": 98,
     "metadata": {},
     "output_type": "execute_result"
    }
   ],
   "source": [
    "kmeans_kwargs = {\n",
    "    \"init\": \"random\",\n",
    "    \"n_init\": 10,\n",
    "    \"max_iter\": 300,\n",
    "    \"random_state\": 42,\n",
    "}\n",
    "sse = []\n",
    "for k in range (1, 11):\n",
    "    kmeans = KMeans(n_clusters=k, **kmeans_kwargs)\n",
    "    kmeans.fit(daysOfWeekCluster[5])\n",
    "    sse.append(kmeans.inertia_)\n",
    "plt.style.use(\"ggplot\")\n",
    "plt.plot(range(1, 11), sse)\n",
    "plt.xticks(range(1, 11))\n",
    "plt.xlabel(\"Number of Clusters\")\n",
    "plt.ylabel(\"SSE\")\n",
    "plt.show()\n",
    "kl = KneeLocator(\n",
    "    range(1, 11), sse, curve=\"convex\", direction=\"decreasing\"\n",
    ")\n",
    "\n",
    "kl.elbow"
   ]
  },
  {
   "cell_type": "code",
   "execution_count": 99,
   "id": "catholic-analysis",
   "metadata": {},
   "outputs": [],
   "source": [
    "Friday1= createCluster(daysOfWeekCluster[5], 3, 0, Friday)\n",
    "Friday2= createCluster(daysOfWeekCluster[5], 3, 1, Friday)\n",
    "Friday3= createCluster(daysOfWeekCluster[5], 3, 2, Friday)"
   ]
  },
  {
   "cell_type": "markdown",
   "id": "animated-anxiety",
   "metadata": {},
   "source": [
    "Friday is Friday1, Friday2, Friday3\n",
    "On to Saturday the last day\n"
   ]
  },
  {
   "cell_type": "code",
   "execution_count": 100,
   "id": "constant-heather",
   "metadata": {},
   "outputs": [
    {
     "data": {
      "image/png": "[encoded data removed]",
      "text/plain": [
       "<Figure size 432x288 with 1 Axes>"
      ]
     },
     "metadata": {},
     "output_type": "display_data"
    },
    {
     "data": {
      "text/plain": [
       "3"
      ]
     },
     "execution_count": 100,
     "metadata": {},
     "output_type": "execute_result"
    }
   ],
   "source": [
    "kmeans_kwargs = {\n",
    "    \"init\": \"random\",\n",
    "    \"n_init\": 10,\n",
    "    \"max_iter\": 300,\n",
    "    \"random_state\": 42,\n",
    "}\n",
    "sse = []\n",
    "for k in range (1, 11):\n",
    "    kmeans = KMeans(n_clusters=k, **kmeans_kwargs)\n",
    "    kmeans.fit(daysOfWeekCluster[5])\n",
    "    sse.append(kmeans.inertia_)\n",
    "plt.style.use(\"ggplot\")\n",
    "plt.plot(range(1, 11), sse)\n",
    "plt.xticks(range(1, 11))\n",
    "plt.xlabel(\"Number of Clusters\")\n",
    "plt.ylabel(\"SSE\")\n",
    "plt.show()\n",
    "kl = KneeLocator(\n",
    "    range(1, 11), sse, curve=\"convex\", direction=\"decreasing\"\n",
    ")\n",
    "\n",
    "kl.elbow"
   ]
  },
  {
   "cell_type": "code",
   "execution_count": 104,
   "id": "direct-explosion",
   "metadata": {},
   "outputs": [],
   "source": [
    "Saturday1= createCluster(daysOfWeekCluster[6], 3, 0, Saturday)\n"
   ]
  },
  {
   "cell_type": "code",
   "execution_count": 105,
   "id": "tribal-stuart",
   "metadata": {},
   "outputs": [],
   "source": [
    "Saturday2= createCluster(daysOfWeekCluster[6], 3, 1, Saturday)\n"
   ]
  },
  {
   "cell_type": "code",
   "execution_count": 106,
   "id": "standard-antigua",
   "metadata": {},
   "outputs": [],
   "source": [
    "Saturday3= createCluster(daysOfWeekCluster[6], 3, 2, Saturday)"
   ]
  },
  {
   "cell_type": "markdown",
   "id": "sophisticated-sheep",
   "metadata": {},
   "source": [
    "We Have all the dataframes now we just need to save them\n"
   ]
  },
  {
   "cell_type": "markdown",
   "id": "rolled-chrome",
   "metadata": {},
   "source": [
    "# Saving"
   ]
  },
  {
   "cell_type": "code",
   "execution_count": 113,
   "id": "emerging-disney",
   "metadata": {},
   "outputs": [],
   "source": [
    "Sunday1.to_csv('Sunday1.csv')\n"
   ]
  },
  {
   "cell_type": "code",
   "execution_count": 114,
   "id": "cultural-confidentiality",
   "metadata": {},
   "outputs": [],
   "source": [
    "Sunday2.to_csv('Sunday2.csv')\n",
    "Sunday3.to_csv('Sunday3.csv')"
   ]
  },
  {
   "cell_type": "code",
   "execution_count": 115,
   "id": "split-upper",
   "metadata": {},
   "outputs": [],
   "source": [
    "Monday1.to_csv('Monday1.csv')\n",
    "Monday2.to_csv('Monday2.csv')\n",
    "Monday3.to_csv('Monday3.csv')\n",
    "Tuesday1.to_csv('Tuesday1.csv')\n",
    "Tuesday2.to_csv('Tuesday2.csv')\n",
    "Tuesday3.to_csv('Tuesday3.csv')\n",
    "Wednesday1.to_csv('Wednesday1.csv')\n",
    "Wednesday2.to_csv('Wednesday2.csv')\n",
    "Wednesday3.to_csv('Wednesday3.csv')\n",
    "Thursday1.to_csv('Thursday1.csv')\n",
    "Thursday2.to_csv('Thursday2.csv')\n",
    "Thursday3.to_csv('Thursday3.csv')\n",
    "Friday1.to_csv('Friday1.csv')\n",
    "Friday2.to_csv('Friday2.csv')\n",
    "Friday3.to_csv('Friday3.csv')\n",
    "Saturday1.to_csv('Saturday1.csv')\n",
    "Saturday2.to_csv('Saturday2.csv')\n",
    "Saturday3.to_csv('Saturday3.csv')\n"
   ]
  }
 ],
 "metadata": {
  "kernelspec": {
   "display_name": "Python 3",
   "language": "python",
   "name": "python3"
  },
  "language_info": {
   "codemirror_mode": {
    "name": "ipython",
    "version": 3
   },
   "file_extension": ".py",
   "mimetype": "text/x-python",
   "name": "python",
   "nbconvert_exporter": "python",
   "pygments_lexer": "ipython3",
   "version": "3.9.1"
  }
 },
 "nbformat": 4,
 "nbformat_minor": 5
}